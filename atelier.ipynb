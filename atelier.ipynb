{
 "cells": [
  {
   "cell_type": "code",
   "execution_count": null,
   "id": "8cf893a0",
   "metadata": {},
   "outputs": [],
   "source": [
    "%load_ext autoreload\n",
    "%autoreload 2"
   ]
  },
  {
   "cell_type": "code",
   "execution_count": null,
   "id": "bb62bea5",
   "metadata": {},
   "outputs": [],
   "source": [
    "#!python3.10 -m pip install pyarrow"
   ]
  },
  {
   "cell_type": "code",
   "execution_count": null,
   "id": "b5622edd",
   "metadata": {},
   "outputs": [],
   "source": [
    "import os\n",
    "import pandas as pd\n",
    "import geopandas as gpd\n",
    "from display import *\n",
    "import re"
   ]
  },
  {
   "cell_type": "code",
   "execution_count": null,
   "id": "2a1d507f",
   "metadata": {
    "scrolled": true
   },
   "outputs": [],
   "source": [
    "# path of the address file\n",
    "path = \"extrait_fichier_adresses_REU.parquet\"\n",
    "#os.listdir()"
   ]
  },
  {
   "cell_type": "markdown",
   "id": "f400b591",
   "metadata": {},
   "source": [
    "## Loading the address file, and a file with the shape of communes.\n",
    "##### Warning: these files are memory-consuming"
   ]
  },
  {
   "cell_type": "code",
   "execution_count": null,
   "id": "6a6b0625",
   "metadata": {},
   "outputs": [],
   "source": [
    "df = pd.read_parquet(path)\n",
    "df.head()"
   ]
  },
  {
   "cell_type": "code",
   "execution_count": null,
   "id": "31507876",
   "metadata": {},
   "outputs": [],
   "source": [
    "df.describe()"
   ]
  },
  {
   "cell_type": "code",
   "execution_count": null,
   "id": "22724e39",
   "metadata": {},
   "outputs": [],
   "source": [
    "communes_france = gpd.read_file(\"communes-20220101.shp\")[[\"geometry\", \"insee\"]].dropna()"
   ]
  },
  {
   "cell_type": "markdown",
   "id": "0b7056f3",
   "metadata": {},
   "source": [
    "### The code below creates an (unofficial) identifier of bureau de vote. We use it in this code mostly for displaying purpose"
   ]
  },
  {
   "cell_type": "code",
   "execution_count": null,
   "id": "d743febb",
   "metadata": {},
   "outputs": [],
   "source": [
    "\n",
    "def prepare_ids(df: pd.DataFrame) -> pd.DataFrame:\n",
    "    \"\"\"\n",
    "    Prepare not-official `id_bv` (integers) column, under the assumption there is less than 10000 bv per city\n",
    "\n",
    "    Args:\n",
    "        df (pd.DataFrame): a dataframe including columns \"Code_BV\" and \"result_citycode\"\n",
    "\n",
    "    Returns:\n",
    "        pd.DataFrame: a dataframe similar to the input, with a supplementary column \"id_bv\" (integers) unique for every bureau de vote\n",
    "    \"\"\"\n",
    "    assert (\"code_bv\" in df.columns) and (\n",
    "        \"code_commune_ref\" in df.columns\n",
    "    ), \"There is no identifiers for bureau de vote\"\n",
    "    df_copy = df.copy()\n",
    "\n",
    "    def prepare_id_bv(row):\n",
    "        \"\"\"\n",
    "        Combine the unique id of a city (citycode) and the number of the bureau de vote inside the city to compute a nationalwide id of bureau de vote\n",
    "\n",
    "        Args:\n",
    "            row (_type_): _description_\n",
    "\n",
    "        Returns:\n",
    "            id_bv: integer serving as unique id of a bureau de vote\n",
    "        \"\"\"\n",
    "        max_bv_per_city = 10000  # assuming there is always less than this number of bv in a city. This is important to grant the uniqueness of id_bv\n",
    "        max_code_commune = 10**5\n",
    "        try:\n",
    "            code_bv = int(row[\"code_bv\"])\n",
    "        except:\n",
    "            # keep as Code_BV the first number found in the string (if there is one)\n",
    "            found = re.search(r\"\\d+\", row[\"code_bv\"])\n",
    "            if found:\n",
    "                code_bv = int(found.group())\n",
    "            else:\n",
    "                code_bv = max_bv_per_city  # this code will indicate parsing errors but won't raise exception\n",
    "        try:\n",
    "            code_commune = int(row[\"code_commune_ref\"])\n",
    "        except:\n",
    "            found = re.search(r\"\\d+\", row[\"code_commune_ref\"])\n",
    "            if found:\n",
    "                code_commune = int(found.group())\n",
    "            else:\n",
    "                code_commune = max_code_commune\n",
    "        return max_bv_per_city * code_commune + code_bv\n",
    "\n",
    "    df_copy[\"id_bv\"] = df_copy.apply(prepare_id_bv, axis=1)\n",
    "    return df_copy"
   ]
  },
  {
   "cell_type": "code",
   "execution_count": null,
   "id": "90ff3390",
   "metadata": {},
   "outputs": [],
   "source": [
    "# add an unofficiel \"id_bv\" field id to recognize and to determine the color of id fields\n",
    "df_prepared = prepare_ids(df)"
   ]
  },
  {
   "cell_type": "markdown",
   "id": "d06bb8e1",
   "metadata": {},
   "source": [
    "## Display an example, restricted to a fraction of a department"
   ]
  },
  {
   "cell_type": "code",
   "execution_count": null,
   "id": "c65943a6",
   "metadata": {},
   "outputs": [],
   "source": [
    "# Take the example of the departement 83: Le Var\n",
    "DEP = \"83\""
   ]
  },
  {
   "cell_type": "code",
   "execution_count": null,
   "id": "67b24ed0",
   "metadata": {},
   "outputs": [],
   "source": [
    "communes_dep = communes_france[communes_france.insee.str.startswith(str(DEP))]\n",
    "communes_dep"
   ]
  },
  {
   "cell_type": "code",
   "execution_count": null,
   "id": "f1da4dfc",
   "metadata": {},
   "outputs": [],
   "source": [
    "# For displaying purpose, display only a fraction of the addresses\n",
    "ratio = 0.1 # 0 <= ratio <= 1"
   ]
  },
  {
   "cell_type": "code",
   "execution_count": null,
   "id": "48e49bd0",
   "metadata": {},
   "outputs": [],
   "source": [
    "df_dep = df_prepared[df_prepared.dep_bv==str(DEP)].sample(frac=ratio, random_state=0)\n"
   ]
  },
  {
   "cell_type": "code",
   "execution_count": null,
   "id": "c489e703",
   "metadata": {
    "scrolled": true
   },
   "outputs": [],
   "source": [
    "r = display_addresses(addresses=df_dep, communes=communes_dep)\n",
    "r.to_html(f\"scatterplot_{DEP}_layer_ratio_{ratio}.html\")\n"
   ]
  },
  {
   "cell_type": "code",
   "execution_count": null,
   "id": "f84bfa17",
   "metadata": {},
   "outputs": [],
   "source": [
    "r_voronoi = display_bureau_vote_shapes(addresses=df_dep, communes=communes_dep, mode=\"voronoi\")\n",
    "r_voronoi.to_html(f\"voronoi_{DEP}_layer_ratio_{ratio}.html\")"
   ]
  },
  {
   "cell_type": "code",
   "execution_count": null,
   "id": "704c570b",
   "metadata": {},
   "outputs": [],
   "source": []
  },
  {
   "cell_type": "code",
   "execution_count": null,
   "id": "2b56c07c",
   "metadata": {},
   "outputs": [],
   "source": []
  },
  {
   "cell_type": "code",
   "execution_count": null,
   "id": "3b89f39b",
   "metadata": {},
   "outputs": [],
   "source": []
  }
 ],
 "metadata": {
  "kernelspec": {
   "display_name": "Python 3 (ipykernel)",
   "language": "python",
   "name": "python3"
  },
  "language_info": {
   "codemirror_mode": {
    "name": "ipython",
    "version": 3
   },
   "file_extension": ".py",
   "mimetype": "text/x-python",
   "name": "python",
   "nbconvert_exporter": "python",
   "pygments_lexer": "ipython3",
   "version": "3.10.6"
  }
 },
 "nbformat": 4,
 "nbformat_minor": 5
}
